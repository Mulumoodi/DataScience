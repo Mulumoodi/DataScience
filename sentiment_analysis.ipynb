{
 "cells": [
  {
   "cell_type": "code",
   "execution_count": 104,
   "metadata": {},
   "outputs": [
    {
     "name": "stdout",
     "output_type": "stream",
     "text": [
      "                                                tweet sentiment\n",
      "0   RT @hellcasecom: 🔥Knives Case #Giveaway:\\n\\n▪️...  Negative\n",
      "1   @StacyBrewer18 @CillizzaCNN @washingtonpost Ge...  Negative\n",
      "2   Sehun's trainee day song is Justin Beiber's\\n\"...  Negative\n",
      "3         @rai_vosa Mas quando tu acha melhor beiber?  Negative\n",
      "4   @MaximumCortez @MichaelRyanRuiz @LeBatardShow ...  Negative\n",
      "5   RT @Addijay: \"I'll get over Justin beiber when...  Negative\n",
      "6   RT @Addijay: \"I'll get over Justin beiber when...  Negative\n",
      "7   ¡DESILUCIÓN! A Justin Beiber sin franela y en ...  Negative\n",
      "8   Beiber's religion, H'wood limousine hipster mo...  Negative\n",
      "9   You mean toilet water? I like Beiber don't mak...  Negative\n",
      "10  RT @AmazingPhil: ..@Danisnotonfire is straight...  Negative\n",
      "11  RT @AmazingPhil: ..@Danisnotonfire is straight...  Negative\n",
      "12  When people use \"it's popular\" to say a movie ...  Positive\n",
      "13  beiber ne amk şu çocuk ünlü olalı kaç sene old...  Negative\n",
      "14  RT @AmazingPhil: ..@Danisnotonfire is straight...  Negative\n"
     ]
    },
    {
     "data": {
      "image/png": "[encoded data removed]",
      "text/plain": [
       "<matplotlib.figure.Figure at 0x11c51d4a8>"
      ]
     },
     "metadata": {},
     "output_type": "display_data"
    }
   ],
   "source": [
    "from textblob import TextBlob\n",
    "import tweepy\n",
    "import pandas as pd\n",
    "import matplotlib.pyplot as plt\n",
    "\n",
    "consumer_key= ''\n",
    "consumer_secret= ''\n",
    "\n",
    "access_token=''\n",
    "access_token_secret=''\n",
    "\n",
    "auth=tweepy.OAuthHandler(consumer_key, consumer_secret)\n",
    "auth.set_access_token(access_token, access_token_secret)\n",
    "\n",
    "api = tweepy.API(auth)\n",
    "\n",
    "public_tweets = api.search('Beiber')\n",
    "df=pd.DataFrame(columns=['tweet','sentiment'])\n",
    "\n",
    "for tweet in public_tweets:\n",
    "    analysis = TextBlob(tweet.text)\n",
    "    sentiment='Positive' if (analysis.sentiment.polarity>0) else 'Negative'\n",
    "    df=df.append({'tweet':tweet.text, 'sentiment':sentiment}, ignore_index=True)\n",
    "    \n",
    "print ( df)\n",
    "colors = [\"#E13F29\", \"#D69A80\", \"#D63B59\", \"#AE5552\", \"#CB5C3B\", \"#EB8076\", \"#96624E\"]\n",
    "#counts = df.groupby(['sentiment']).agg(len)\n",
    "df.groupby(['sentiment']).count().plot(kind='pie',subplots=True)\n",
    "#df.sentiment.value_counts().plot(kind='pie')\n",
    "#plt.axis('equal')\n",
    "plt.title('Number of appearances in dataset')\n",
    "plt.show()\n",
    "\n"
   ]
  },
  {
   "cell_type": "code",
   "execution_count": null,
   "metadata": {
    "collapsed": true
   },
   "outputs": [],
   "source": []
  },
  {
   "cell_type": "code",
   "execution_count": null,
   "metadata": {
    "collapsed": true
   },
   "outputs": [],
   "source": []
  }
 ],
 "metadata": {
  "kernelspec": {
   "display_name": "Python 3",
   "language": "python",
   "name": "python3"
  },
  "language_info": {
   "codemirror_mode": {
    "name": "ipython",
    "version": 3
   },
   "file_extension": ".py",
   "mimetype": "text/x-python",
   "name": "python",
   "nbconvert_exporter": "python",
   "pygments_lexer": "ipython3",
   "version": "3.6.1"
  }
 },
 "nbformat": 4,
 "nbformat_minor": 2
}
